{
 "cells": [
  {
   "cell_type": "markdown",
   "id": "ab62cc1a",
   "metadata": {},
   "source": [
    "# Test example of AROPS\n",
    "In this notebook we show how AROPS completes a simulated chemical reaction optimization process."
   ]
  },
  {
   "cell_type": "code",
   "execution_count": 1,
   "id": "7bad0fb7",
   "metadata": {},
   "outputs": [
    {
     "name": "stdout",
     "output_type": "stream",
     "text": [
      "Optimum: 0.4234, \n",
      "Time: 1553.61 min, \n",
      "Number of Experiments: 46\n",
      "Optimal conditions: {'optimum_0': {'T': 110.0, 'tres': 19.088094790570263, 'ccat': 4.175, 'catalyst': 'e'}}\n"
     ]
    }
   ],
   "source": [
    "# The optmization example of Case 1 of Benchmark A.\n",
    "from arops import AROPS\n",
    "\n",
    "# Create AROPS instance\n",
    "simulator = AROPS(reactor_number=2, analysis_instrument_number=1, schedule='ARIA-PI',\n",
    "                  benchmark='Benchmark_A1', analysis_time=10, pi_min=1e-4)\n",
    "\n",
    "# Run the optimization process\n",
    "res = simulator.run()\n",
    "\n",
    "# Results output\n",
    "print('Optimum: {:.4f}, \\nTime: {:.2f} min, \\nNumber of Experiments: {:d}'.format(res.opt_obj, res.time, res.n_exps))\n",
    "print('Optimal conditions:', res.opt_con)"
   ]
  }
 ],
 "metadata": {
  "kernelspec": {
   "display_name": "Python 3 (ipykernel)",
   "language": "python",
   "name": "python3"
  },
  "language_info": {
   "codemirror_mode": {
    "name": "ipython",
    "version": 3
   },
   "file_extension": ".py",
   "mimetype": "text/x-python",
   "name": "python",
   "nbconvert_exporter": "python",
   "pygments_lexer": "ipython3",
   "version": "3.9.5"
  }
 },
 "nbformat": 4,
 "nbformat_minor": 5
}
